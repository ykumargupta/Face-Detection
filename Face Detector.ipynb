{
 "cells": [
  {
   "cell_type": "code",
   "execution_count": 3,
   "metadata": {},
   "outputs": [],
   "source": [
    "import cv2 \n",
    "import numpy as np"
   ]
  },
  {
   "cell_type": "code",
   "execution_count": null,
   "metadata": {},
   "outputs": [],
   "source": [
    "# Haar Cascase - deep learning \n",
    "# Face - Yes, No , 25 stages ke baad detect kar leta hai\n",
    "\n",
    "\n",
    "cap = cv2.VideoCapture(0)\n",
    "face_cascade = cv2.CascadeClassifier(\"haarcascade_frontalface_alt.xml\")\n",
    "\n",
    "skip = 0\n",
    "face_data = []\n",
    "dataset_path = \"./face_dataset/\"\n",
    "\n",
    "file_name = input(\"Enter the name of person : \")\n",
    "\n",
    "\n",
    "while True:\n",
    "    ret,frame = cap.read()\n",
    "    gray_frame = cv2.cvtColor(frame,cv2.COLOR_BGR2GRAY)\n",
    "    \n",
    "    if ret == False:\n",
    "        continue\n",
    "    \n",
    "    faces = face_cascade.detectMultiScale(gray_frame,1.3,5) #scaling factor , min no of frame \n",
    "    if len(faces) == 0:\n",
    "        continue\n",
    "    \n",
    "    k = 1 # k tells us which frame it is \n",
    "    \n",
    "    faces = sorted(faces, key = lambda x : x[2]*x[3] , reverse = True)\n",
    "    \n",
    "    \n",
    "    skip+=1\n",
    "    \n",
    "    \n",
    "    for face in faces[:1]:\n",
    "        x,y,w,h = face\n",
    "        offset = 5\n",
    "        face_offset = frame[y-offset:y+h+offset,x-offset:x+w+offset]\n",
    "        face_selection = cv2.resize(face_offset,(100,100))\n",
    "        \n",
    "        if skip % 10 == 0:\n",
    "            face_data.append(face_selection)\n",
    "            print (len(face_data))\n",
    "            \n",
    "        \n",
    "        \n",
    "        cv2.imshow(str(k), face_selection)\n",
    "        k+=1\n",
    "        cv2.rectangle(frame,(x,y),(x+w,y+h),(0,255,0),2)\n",
    "        \n",
    "    cv2.imshow(\"faces\",frame)\n",
    "    \n",
    "    key_pressed = cv2.waitKey(1) & 0xFF\n",
    "    if key_pressed == ord('q'):\n",
    "        break\n",
    "        \n",
    "face_data = np.array(face_data)\n",
    "face_data = face_data.reshape((face_data.shape[0],-1))\n",
    "print (face_data.shape)\n",
    "                              \n",
    "np.save(dataset_path + file_name, face_data)\n",
    "print(\"Dataset saved at : {}\".format(dataset_path + file_name + '.npy'))\n",
    "                              \n",
    "cap.release()\n",
    "cv2.destroyAllWindows()\n",
    "    \n",
    "# gray scale is easy to detect\n",
    "#min no of neighbours "
   ]
  },
  {
   "cell_type": "code",
   "execution_count": null,
   "metadata": {},
   "outputs": [],
   "source": []
  }
 ],
 "metadata": {
  "kernelspec": {
   "display_name": "Python 3",
   "language": "python",
   "name": "python3"
  },
  "language_info": {
   "codemirror_mode": {
    "name": "ipython",
    "version": 3
   },
   "file_extension": ".py",
   "mimetype": "text/x-python",
   "name": "python",
   "nbconvert_exporter": "python",
   "pygments_lexer": "ipython3",
   "version": "3.7.1"
  }
 },
 "nbformat": 4,
 "nbformat_minor": 2
}
