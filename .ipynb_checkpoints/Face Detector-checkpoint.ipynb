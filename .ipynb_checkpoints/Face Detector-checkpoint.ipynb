{
 "cells": [
  {
   "cell_type": "code",
   "execution_count": 3,
   "metadata": {},
   "outputs": [],
   "source": [
    "import cv2 \n",
    "import numpy as np"
   ]
  },
  {
   "cell_type": "code",
   "execution_count": null,
   "metadata": {},
   "outputs": [],
   "source": [
    "# Haar Cascase - deep learning \n",
    "# Face - Yes, No , 25 stages ke baad detect kar leta hai\n",
    "\n",
    "\n",
    "cv2.VideoCapture(0)\n",
    "face_cascade = cv2.CascadeClassifier(\"haarcascade_frontalface_alt.xml\")\n",
    "\n",
    "while True:\n",
    "    ret,frame = cap.read()\n",
    "    gray_frame = cv2.cvtColor(frame,cv2.COLOR_BGR2GRAY)\n",
    "    \n",
    "    if ret == False:\n",
    "        continue\n",
    "    \n",
    "    faces = face_cascade.detectMultiScale(gray_frame,1.3,5) #scaling factor , min no of frame \n",
    "    if len(faces) == 0:\n",
    "        continue\n",
    "    \n",
    "    for face in faces[:1]:\n",
    "        x,y,w,h = face\n",
    "        offset = 10\n",
    "        face_offset = frame[y-offset:y+h+offset,x+offset:x+w+offset]\n",
    "        face_selection = cv2.resize(face_offset(100,100))\n",
    "        \n",
    "        cv2.imshow(\"Face\", face_selection)\n",
    "        cv2.rectangle(frame,(x,y),(x+w,y+h),(0,255,0),2)\n",
    "        \n",
    "    cv2.imshow(\"faces\",frame)\n",
    "    \n",
    "    key.pressed = cv2.waitKey(1) & 0xFF\n",
    "    if key_pressed == ord('q'):\n",
    "        break\n",
    "        \n",
    "cap.release()\n",
    "cv2.destroyAllWindows()\n",
    "    \n",
    "# gray scale is easy to detect\n",
    "#min no of neighbours "
   ]
  },
  {
   "cell_type": "code",
   "execution_count": null,
   "metadata": {},
   "outputs": [],
   "source": []
  }
 ],
 "metadata": {},
 "nbformat": 4,
 "nbformat_minor": 2
}
